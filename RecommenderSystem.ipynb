{
  "cells":[
    {
      "cell_type":"markdown",
      "source":[
        "# Recommender System\n",
        "\n",
        "This code aims to create a Recommender system,for estimating the movie ratings of a user. It employs a Model-based Collaborative filtering system whereby it estimates the movie ratings of movie which the user hasn't reviewed with help of the ratings of other users who have reviewed the movie"
      ],
      "attachments":{
        
      },
      "metadata":{
        
      }
    },
    {
      "cell_type":"markdown",
      "source":[
        "## Importing Libraries and Reading Data"
      ],
      "attachments":{
        
      },
      "metadata":{
        
      }
    },
    {
      "cell_type":"code",
      "source":[
        "import numpy as np\n",
        "import pandas as pd"
      ],
      "execution_count":2,
      "outputs":[
        
      ],
      "metadata":{
        
      }
    },
    {
      "cell_type":"code",
      "source":[
        "#Creating a data frame with relevant information\n",
        "columns = ['user_id', 'item_id', 'rating', 'timestamp']\n",
        "#Since the file is tab separated the sep parameter is specified\n",
        "data = pd.read_csv('u.data', sep='\\t', names=columns)\n",
        "movie_data=pd.read_csv(\"Movie_Id_Titles\")"
      ],
      "execution_count":3,
      "outputs":[
        
      ],
      "metadata":{
        
      }
    },
    {
      "cell_type":"markdown",
      "source":[
        "## Quick look at the data"
      ],
      "attachments":{
        
      },
      "metadata":{
        
      }
    },
    {
      "cell_type":"code",
      "source":[
        "data.head()"
      ],
      "execution_count":4,
      "outputs":[
        {
          "data":{
            "text\/html":[
              "<div>\n",
              "<style scoped>\n",
              "    .dataframe tbody tr th:only-of-type {\n",
              "        vertical-align: middle;\n",
              "    }\n",
              "\n",
              "    .dataframe tbody tr th {\n",
              "        vertical-align: top;\n",
              "    }\n",
              "\n",
              "    .dataframe thead th {\n",
              "        text-align: right;\n",
              "    }\n",
              "<\/style>\n",
              "<table border=\"1\" class=\"dataframe\">\n",
              "  <thead>\n",
              "    <tr style=\"text-align: right;\">\n",
              "      <th><\/th>\n",
              "      <th>user_id<\/th>\n",
              "      <th>item_id<\/th>\n",
              "      <th>rating<\/th>\n",
              "      <th>timestamp<\/th>\n",
              "    <\/tr>\n",
              "  <\/thead>\n",
              "  <tbody>\n",
              "    <tr>\n",
              "      <th>0<\/th>\n",
              "      <td>0<\/td>\n",
              "      <td>50<\/td>\n",
              "      <td>5<\/td>\n",
              "      <td>881250949<\/td>\n",
              "    <\/tr>\n",
              "    <tr>\n",
              "      <th>1<\/th>\n",
              "      <td>0<\/td>\n",
              "      <td>172<\/td>\n",
              "      <td>5<\/td>\n",
              "      <td>881250949<\/td>\n",
              "    <\/tr>\n",
              "    <tr>\n",
              "      <th>2<\/th>\n",
              "      <td>0<\/td>\n",
              "      <td>133<\/td>\n",
              "      <td>1<\/td>\n",
              "      <td>881250949<\/td>\n",
              "    <\/tr>\n",
              "    <tr>\n",
              "      <th>3<\/th>\n",
              "      <td>196<\/td>\n",
              "      <td>242<\/td>\n",
              "      <td>3<\/td>\n",
              "      <td>881250949<\/td>\n",
              "    <\/tr>\n",
              "    <tr>\n",
              "      <th>4<\/th>\n",
              "      <td>186<\/td>\n",
              "      <td>302<\/td>\n",
              "      <td>3<\/td>\n",
              "      <td>891717742<\/td>\n",
              "    <\/tr>\n",
              "  <\/tbody>\n",
              "<\/table>\n",
              "<\/div>"
            ]
          },
          "metadata":{
            
          },
          "output_type":"display_data"
        }
      ],
      "metadata":{
        
      }
    },
    {
      "cell_type":"code",
      "source":[
        "movie_data.head()"
      ],
      "execution_count":5,
      "outputs":[
        {
          "data":{
            "text\/html":[
              "<div>\n",
              "<style scoped>\n",
              "    .dataframe tbody tr th:only-of-type {\n",
              "        vertical-align: middle;\n",
              "    }\n",
              "\n",
              "    .dataframe tbody tr th {\n",
              "        vertical-align: top;\n",
              "    }\n",
              "\n",
              "    .dataframe thead th {\n",
              "        text-align: right;\n",
              "    }\n",
              "<\/style>\n",
              "<table border=\"1\" class=\"dataframe\">\n",
              "  <thead>\n",
              "    <tr style=\"text-align: right;\">\n",
              "      <th><\/th>\n",
              "      <th>item_id<\/th>\n",
              "      <th>title<\/th>\n",
              "    <\/tr>\n",
              "  <\/thead>\n",
              "  <tbody>\n",
              "    <tr>\n",
              "      <th>0<\/th>\n",
              "      <td>1<\/td>\n",
              "      <td>Toy Story (1995)<\/td>\n",
              "    <\/tr>\n",
              "    <tr>\n",
              "      <th>1<\/th>\n",
              "      <td>2<\/td>\n",
              "      <td>GoldenEye (1995)<\/td>\n",
              "    <\/tr>\n",
              "    <tr>\n",
              "      <th>2<\/th>\n",
              "      <td>3<\/td>\n",
              "      <td>Four Rooms (1995)<\/td>\n",
              "    <\/tr>\n",
              "    <tr>\n",
              "      <th>3<\/th>\n",
              "      <td>4<\/td>\n",
              "      <td>Get Shorty (1995)<\/td>\n",
              "    <\/tr>\n",
              "    <tr>\n",
              "      <th>4<\/th>\n",
              "      <td>5<\/td>\n",
              "      <td>Copycat (1995)<\/td>\n",
              "    <\/tr>\n",
              "  <\/tbody>\n",
              "<\/table>\n",
              "<\/div>"
            ]
          },
          "metadata":{
            
          },
          "output_type":"display_data"
        }
      ],
      "metadata":{
        
      }
    },
    {
      "cell_type":"code",
      "source":[
        "#Here we merge the 2 data frames along the item_id column to obtain a combined data fram\n",
        "data = pd.merge(data,movie_data,on='item_id')\n",
        "data.head()"
      ],
      "execution_count":6,
      "outputs":[
        {
          "data":{
            "text\/html":[
              "<div>\n",
              "<style scoped>\n",
              "    .dataframe tbody tr th:only-of-type {\n",
              "        vertical-align: middle;\n",
              "    }\n",
              "\n",
              "    .dataframe tbody tr th {\n",
              "        vertical-align: top;\n",
              "    }\n",
              "\n",
              "    .dataframe thead th {\n",
              "        text-align: right;\n",
              "    }\n",
              "<\/style>\n",
              "<table border=\"1\" class=\"dataframe\">\n",
              "  <thead>\n",
              "    <tr style=\"text-align: right;\">\n",
              "      <th><\/th>\n",
              "      <th>user_id<\/th>\n",
              "      <th>item_id<\/th>\n",
              "      <th>rating<\/th>\n",
              "      <th>timestamp<\/th>\n",
              "      <th>title<\/th>\n",
              "    <\/tr>\n",
              "  <\/thead>\n",
              "  <tbody>\n",
              "    <tr>\n",
              "      <th>0<\/th>\n",
              "      <td>0<\/td>\n",
              "      <td>50<\/td>\n",
              "      <td>5<\/td>\n",
              "      <td>881250949<\/td>\n",
              "      <td>Star Wars (1977)<\/td>\n",
              "    <\/tr>\n",
              "    <tr>\n",
              "      <th>1<\/th>\n",
              "      <td>290<\/td>\n",
              "      <td>50<\/td>\n",
              "      <td>5<\/td>\n",
              "      <td>880473582<\/td>\n",
              "      <td>Star Wars (1977)<\/td>\n",
              "    <\/tr>\n",
              "    <tr>\n",
              "      <th>2<\/th>\n",
              "      <td>79<\/td>\n",
              "      <td>50<\/td>\n",
              "      <td>4<\/td>\n",
              "      <td>891271545<\/td>\n",
              "      <td>Star Wars (1977)<\/td>\n",
              "    <\/tr>\n",
              "    <tr>\n",
              "      <th>3<\/th>\n",
              "      <td>2<\/td>\n",
              "      <td>50<\/td>\n",
              "      <td>5<\/td>\n",
              "      <td>888552084<\/td>\n",
              "      <td>Star Wars (1977)<\/td>\n",
              "    <\/tr>\n",
              "    <tr>\n",
              "      <th>4<\/th>\n",
              "      <td>8<\/td>\n",
              "      <td>50<\/td>\n",
              "      <td>5<\/td>\n",
              "      <td>879362124<\/td>\n",
              "      <td>Star Wars (1977)<\/td>\n",
              "    <\/tr>\n",
              "  <\/tbody>\n",
              "<\/table>\n",
              "<\/div>"
            ]
          },
          "metadata":{
            
          },
          "output_type":"display_data"
        }
      ],
      "metadata":{
        
      }
    },
    {
      "cell_type":"code",
      "source":[
        "user_no = data.user_id.nunique()\n",
        "item_no = data.item_id.nunique()\n",
        "#Total number of Users and movies respectively\n",
        "user_no,item_no"
      ],
      "execution_count":7,
      "outputs":[
        {
          "data":{
            "text\/plain":[
              "(944, 1682)"
            ]
          },
          "metadata":{
            
          },
          "output_type":"display_data"
        }
      ],
      "metadata":{
        
      }
    },
    {
      "cell_type":"code",
      "source":[
        "#Implementing the train-test split\n",
        "from sklearn.model_selection import train_test_split\n",
        "train_data, test_data = train_test_split(data, test_size=0.25)"
      ],
      "execution_count":8,
      "outputs":[
        
      ],
      "metadata":{
        
      }
    },
    {
      "cell_type":"markdown",
      "source":[
        "# Collaborative Filtering\n",
        "\n",
        "Here we will implement Model-based Collaborative filtering"
      ],
      "attachments":{
        
      },
      "metadata":{
        
      }
    },
    {
      "cell_type":"code",
      "source":[
        "#Here we first create 2 empty matrices,for our training and test data\n",
        "#Then for each row in the traina and test data we assign the value of the rating(row[3])\n",
        "#to the corresponding position in our empty matrices(row[1]-1,row[2]-1)\n",
        "train_data_matrix = np.zeros((user_no, item_no))\n",
        "for row in train_data.itertuples():\n",
        "    train_data_matrix[row[1]-1, row[2]-1] = row[3]  \n",
        "\n",
        "test_data_matrix = np.zeros((user_no,item_no))\n",
        "for line in test_data.itertuples():\n",
        "    test_data_matrix[line[1]-1, line[2]-1] = row[3]"
      ],
      "execution_count":9,
      "outputs":[
        
      ],
      "metadata":{
        
      }
    },
    {
      "cell_type":"code",
      "source":[
        "#Next we calculate the sparsity level of our matrix to get an idea of amount of zero elements it contains\n",
        "#Sparsity level is the number of zero elements divided by the total number of elements\n",
        "sparsity_level=1.0-(len(data)\/(user_no*item_no))\n",
        "print(\"Sparsity level:\",sparsity_level)"
      ],
      "execution_count":10,
      "outputs":[
        {
          "name":"stdout",
          "text":[
            "Sparsity level: 0.9370182037122876\n"
          ],
          "output_type":"stream"
        }
      ],
      "metadata":{
        
      }
    },
    {
      "cell_type":"markdown",
      "source":[
        "### This confirms the fact that our user-item matrix is a sparse matrix,which is expected since not every user has reviewed every movie in our dataset and there must be quite a lot of zeros"
      ],
      "attachments":{
        
      },
      "metadata":{
        
      }
    },
    {
      "cell_type":"markdown",
      "source":[
        "# Singular Value Decomposition\n",
        "\n",
        "We use SVD to do matrix factorisation,where we basically convert our sparse user-item matrix into a low rank structure where\n",
        "our matrix can be approximated as a product of low rank matrices \n",
        "\n",
        "Let X be the matrix we want to approximate.Let A be the matrix where each row represents the feature vector of a user\n",
        "Similarly let be B be such a matrix for the movies.Then X can be approximated as \n",
        "\n",
        "                              **X=ADB'**\n",
        "\n",
        "Here D is a diagonal matrix with each diagonal element being a non_negative singular value of X.\n",
        "A singular value of X is basically the square root of an eigenvalue of the matrix XX' "
      ],
      "attachments":{
        
      },
      "metadata":{
        
      }
    },
    {
      "cell_type":"code",
      "source":[
        "import scipy.sparse as sp\n",
        "from scipy.sparse.linalg import svds\n",
        "from sklearn.metrics import mean_squared_error\n",
        "#get SVD components from train matrix. Choose k.\n",
        "a, d, bt = svds(train_data_matrix, k = 20)\n",
        "d_diag_matrix=np.diag(d)\n",
        "X_pred = np.dot(np.dot(a, d_diag_matrix), bt)"
      ],
      "execution_count":21,
      "outputs":[
        
      ],
      "metadata":{
        
      }
    },
    {
      "cell_type":"markdown",
      "source":[
        "## Error Calculation"
      ],
      "attachments":{
        
      },
      "metadata":{
        
      }
    },
    {
      "cell_type":"code",
      "source":[
        "print('Root mean squared error:',mean_squared_error(X_pred, test_data_matrix)**0.5)"
      ],
      "execution_count":22,
      "outputs":[
        {
          "name":"stdout",
          "text":[
            "Root mean squared error: 0.6184969149423699\n"
          ],
          "output_type":"stream"
        }
      ],
      "metadata":{
        
      }
    },
    {
      "cell_type":"markdown",
      "source":[
        "## Final Prediction"
      ],
      "attachments":{
        
      },
      "metadata":{
        
      }
    },
    {
      "cell_type":"code",
      "source":[
        "#Test_data matrix with a lot of zeros\n",
        "test_data_matrix\n"
      ],
      "execution_count":13,
      "outputs":[
        {
          "data":{
            "text\/html":[
              
            ]
          },
          "metadata":{
            
          },
          "output_type":"display_data"
        }
      ],
      "metadata":{
        
      }
    },
    {
      "cell_type":"code",
      "source":[
        "#Prediction matrix where we have filled all the zero values with estimated values of ratings\n",
        "X_pred"
      ],
      "execution_count":23,
      "outputs":[
        {
          "data":{
            "text\/html":[
              
            ]
          },
          "metadata":{
            
          },
          "output_type":"display_data"
        }
      ],
      "metadata":{
        
      }
    },
    {
      "cell_type":"code",
      "source":[
        "#Matrix with rounded off values\n",
        "X_pred.round(decimals=1)"
      ],
      "execution_count":24,
      "outputs":[
        {
          "data":{
            "text\/html":[
              
            ]
          },
          "metadata":{
            
          },
          "output_type":"display_data"
        }
      ],
      "metadata":{
        
      }
    }
  ],
  "metadata":{
    
  },
  "nbformat":4,
  "nbformat_minor":0
}